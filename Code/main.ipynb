{
 "cells": [
  {
   "cell_type": "markdown",
   "metadata": {},
   "source": [
    "Data input and cleaning"
   ]
  },
  {
   "cell_type": "code",
   "execution_count": 16,
   "metadata": {},
   "outputs": [
    {
     "name": "stdout",
     "output_type": "stream",
     "text": [
      "(993, 39)\n",
      "(989, 39)\n",
      "[274, 284, 589, 889]\n"
     ]
    }
   ],
   "source": [
    "import numpy as np\n",
    "import csv\n",
    "\n",
    "with open('data.csv', newline='') as file:\n",
    "    reader = csv.reader(file, delimiter=',')\n",
    "    keys = next(reader)\n",
    "    data = np.loadtxt(file, delimiter=',')\n",
    "\n",
    "nulls = -np.ones(data.shape)\n",
    "new_data = data[~(data == nulls).any(axis=1)]\n",
    "invalid_ages = []\n",
    "print(new_data.shape)\n",
    "for i in range(new_data.shape[0]):\n",
    "    if new_data[i, 37] == 0:\n",
    "        new_data[i, 37] = 3\n",
    "    if new_data[i, 36] > 124:\n",
    "        invalid_ages.append(i)\n",
    "clean_data = np.delete(new_data, invalid_ages, axis=0)\n"
   ]
  },
  {
   "cell_type": "markdown",
   "metadata": {},
   "source": [
    "Feature Scaling and data splitting"
   ]
  },
  {
   "cell_type": "code",
   "execution_count": null,
   "metadata": {},
   "outputs": [],
   "source": [
    "#standardisation\n",
    "from sklearn.model_selection import train_test_split\n",
    "from sklearn.pipeline import make_pipeline\n",
    "from sklearn.preprocessing import StandardScaler\n",
    "\n",
    "y = clean_data[:,36] #age column\n",
    "X = np.delete(clean_data, 36, axis = 1)\n",
    "\n",
    "X_train, X_test, y_train, y_test = train_test_split(X, y, test_size=0.2, random_state=0)\n",
    "pipe = make_pipeline(StandardScaler()) #need to exclude gender column... (and then add the ml alg to this pipeline)\n"
   ]
  }
 ],
 "metadata": {
  "interpreter": {
   "hash": "776797e2a0f958e4196428a35c793895e37a21df8d644be6008b0b500168e2d8"
  },
  "kernelspec": {
   "display_name": "Python 3.8.5 32-bit ('env': venv)",
   "language": "python",
   "name": "python3"
  },
  "language_info": {
   "codemirror_mode": {
    "name": "ipython",
    "version": 3
   },
   "file_extension": ".py",
   "mimetype": "text/x-python",
   "name": "python",
   "nbconvert_exporter": "python",
   "pygments_lexer": "ipython3",
   "version": "3.8.5"
  },
  "orig_nbformat": 4
 },
 "nbformat": 4,
 "nbformat_minor": 2
}
